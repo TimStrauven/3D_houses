{
 "cells": [
  {
   "cell_type": "code",
   "execution_count": null,
   "metadata": {},
   "outputs": [],
   "source": [
    "# part to donload all the zipped files\n",
    "import requests\n",
    "from bs4 import BeautifulSoup\n",
    "import zipfile, io\n",
    "\n",
    "dsm_main_url = \"https://www.geopunt.be/download?container=dhm-vlaanderen-ii-dsm-raster-1m&title=Digitaal%20Hoogtemodel%20Vlaanderen%20II,%20DSM,%20raster,%201m\"\n",
    "dtm_main_url = \"https://www.geopunt.be/download?container=dhm-vlaanderen-ii-dtm-raster-1m&title=Digitaal%20Hoogtemodel%20Vlaanderen%20II,%20DTM,%20raster,%201m\"\n",
    "r = requests.get(dsm_main_url)\n",
    "soup = BeautifulSoup(r.content, \"lxml\")\n",
    "for elem in soup.find_all(\"div\", attrs={\"class\": \"downloadfileblock\"}):\n",
    "    for link in elem.find_all(\"a\", attrs={}):\n",
    "        print(link.get(\"href\"))\n",
    "        r = requests.get(link.get(\"href\"))\n",
    "        z = zipfile.ZipFile(io.BytesIO(r.content))\n",
    "        k = link.get(\"href\")[-7:-4]\n",
    "        z.extractall(f\"/home/becode2/Desktop/3D_houses/tiffs/{k}\")"
   ]
  }
 ],
 "metadata": {
  "kernelspec": {
   "display_name": "Python 3",
   "language": "python",
   "name": "python3"
  },
  "language_info": {
   "codemirror_mode": {
    "name": "ipython",
    "version": 3
   },
   "file_extension": ".py",
   "mimetype": "text/x-python",
   "name": "python",
   "nbconvert_exporter": "python",
   "pygments_lexer": "ipython3",
   "version": "3.8.10"
  }
 },
 "nbformat": 4,
 "nbformat_minor": 4
}
